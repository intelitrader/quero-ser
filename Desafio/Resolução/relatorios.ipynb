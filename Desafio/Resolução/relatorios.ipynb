{
 "cells": [
  {
   "attachments": {},
   "cell_type": "markdown",
   "metadata": {},
   "source": [
    "### Importações\n"
   ]
  },
  {
   "cell_type": "code",
   "execution_count": 7,
   "metadata": {},
   "outputs": [],
   "source": [
    "from pandas import *"
   ]
  },
  {
   "attachments": {},
   "cell_type": "markdown",
   "metadata": {},
   "source": [
    "#### Criando um DataFrame"
   ]
  },
  {
   "cell_type": "code",
   "execution_count": 8,
   "metadata": {},
   "outputs": [],
   "source": [
    "df = DataFrame({\n",
    "    \"Produto\": [16320, 23400, 26440, 28790, 36540],\n",
    "    \"QtCO\": [344, 1435, 2899, 310, 431],\n",
    "    \"QtMin\": [200, 500, 800, 150, 100],\n",
    "    \"QtVendas\": [128, 937, 239, 245, 617]\n",
    "})"
   ]
  },
  {
   "attachments": {},
   "cell_type": "markdown",
   "metadata": {},
   "source": [
    "#### Adicionando a Coluna Estq. após vendas\n"
   ]
  },
  {
   "cell_type": "code",
   "execution_count": 9,
   "metadata": {},
   "outputs": [],
   "source": [
    "df[\"Estq. após vendas\"] = df[\"QtCO\"] - df[\"QtVendas\"] "
   ]
  },
  {
   "attachments": {},
   "cell_type": "markdown",
   "metadata": {},
   "source": [
    "#### Adicionando a Coluna Necess. "
   ]
  },
  {
   "cell_type": "code",
   "execution_count": 10,
   "metadata": {},
   "outputs": [],
   "source": [
    "def completa_quantidade(row):\n",
    "    if row[\"Estq. após vendas\"] < row[\"QtMin\"]:\n",
    "        return row[\"QtMin\"] - row[\"Estq. após vendas\"]\n",
    "    else:\n",
    "        return 0\n",
    "\n",
    "df[\"Necess.\"] = df.apply(lambda row: completa_quantidade(row), axis=1) "
   ]
  },
  {
   "attachments": {},
   "cell_type": "markdown",
   "metadata": {},
   "source": [
    "#### Adicionando a Coluna Transf. de Arm p/ CO "
   ]
  },
  {
   "cell_type": "code",
   "execution_count": 21,
   "metadata": {},
   "outputs": [],
   "source": [
    "def transfere(row):\n",
    "    if row[\"Necess.\"] > 1 and row[\"Necess.\"] < 10:\n",
    "        return 10 or row[\"Necess.\"]  \n",
    "    else: \n",
    "        return row[\"Necess.\"]\n",
    "df[\"Transf. de Arm p/ CO\"] = df.apply(lambda row: transfere(row), axis=1)"
   ]
  },
  {
   "attachments": {},
   "cell_type": "markdown",
   "metadata": {},
   "source": [
    "### Setando a coluna Produto retirando o index"
   ]
  },
  {
   "cell_type": "code",
   "execution_count": 22,
   "metadata": {},
   "outputs": [
    {
     "data": {
      "text/html": [
       "<div>\n",
       "<style scoped>\n",
       "    .dataframe tbody tr th:only-of-type {\n",
       "        vertical-align: middle;\n",
       "    }\n",
       "\n",
       "    .dataframe tbody tr th {\n",
       "        vertical-align: top;\n",
       "    }\n",
       "\n",
       "    .dataframe thead th {\n",
       "        text-align: right;\n",
       "    }\n",
       "</style>\n",
       "<table border=\"1\" class=\"dataframe\">\n",
       "  <thead>\n",
       "    <tr style=\"text-align: right;\">\n",
       "      <th></th>\n",
       "      <th>QtCO</th>\n",
       "      <th>QtMin</th>\n",
       "      <th>QtVendas</th>\n",
       "      <th>Estq. após vendas</th>\n",
       "      <th>Necess.</th>\n",
       "      <th>Transf. de Arm p/ CO</th>\n",
       "    </tr>\n",
       "    <tr>\n",
       "      <th>Produto</th>\n",
       "      <th></th>\n",
       "      <th></th>\n",
       "      <th></th>\n",
       "      <th></th>\n",
       "      <th></th>\n",
       "      <th></th>\n",
       "    </tr>\n",
       "  </thead>\n",
       "  <tbody>\n",
       "    <tr>\n",
       "      <th>16320</th>\n",
       "      <td>344</td>\n",
       "      <td>200</td>\n",
       "      <td>128</td>\n",
       "      <td>216</td>\n",
       "      <td>0</td>\n",
       "      <td>0</td>\n",
       "    </tr>\n",
       "    <tr>\n",
       "      <th>23400</th>\n",
       "      <td>1435</td>\n",
       "      <td>500</td>\n",
       "      <td>937</td>\n",
       "      <td>498</td>\n",
       "      <td>2</td>\n",
       "      <td>10</td>\n",
       "    </tr>\n",
       "    <tr>\n",
       "      <th>26440</th>\n",
       "      <td>2899</td>\n",
       "      <td>800</td>\n",
       "      <td>239</td>\n",
       "      <td>2660</td>\n",
       "      <td>0</td>\n",
       "      <td>0</td>\n",
       "    </tr>\n",
       "    <tr>\n",
       "      <th>28790</th>\n",
       "      <td>310</td>\n",
       "      <td>150</td>\n",
       "      <td>245</td>\n",
       "      <td>65</td>\n",
       "      <td>85</td>\n",
       "      <td>85</td>\n",
       "    </tr>\n",
       "    <tr>\n",
       "      <th>36540</th>\n",
       "      <td>431</td>\n",
       "      <td>100</td>\n",
       "      <td>617</td>\n",
       "      <td>-186</td>\n",
       "      <td>286</td>\n",
       "      <td>286</td>\n",
       "    </tr>\n",
       "  </tbody>\n",
       "</table>\n",
       "</div>"
      ],
      "text/plain": [
       "         QtCO  QtMin  QtVendas  Estq. após vendas  Necess.   \n",
       "Produto                                                      \n",
       "16320     344    200       128                216        0  \\\n",
       "23400    1435    500       937                498        2   \n",
       "26440    2899    800       239               2660        0   \n",
       "28790     310    150       245                 65       85   \n",
       "36540     431    100       617               -186      286   \n",
       "\n",
       "         Transf. de Arm p/ CO  \n",
       "Produto                        \n",
       "16320                       0  \n",
       "23400                      10  \n",
       "26440                       0  \n",
       "28790                      85  \n",
       "36540                     286  "
      ]
     },
     "execution_count": 22,
     "metadata": {},
     "output_type": "execute_result"
    }
   ],
   "source": [
    "df.set_index(\"Produto\")"
   ]
  },
  {
   "attachments": {},
   "cell_type": "markdown",
   "metadata": {},
   "source": [
    "#### Adicionando o Título a Tabela"
   ]
  },
  {
   "cell_type": "code",
   "execution_count": 23,
   "metadata": {},
   "outputs": [
    {
     "data": {
      "text/html": [
       "<style type=\"text/css\">\n",
       "</style>\n",
       "<table id=\"T_0b24b\">\n",
       "  <caption>Necessidade de Transferência Armazém para CO</caption>\n",
       "  <thead>\n",
       "    <tr>\n",
       "      <th class=\"blank level0\" >&nbsp;</th>\n",
       "      <th id=\"T_0b24b_level0_col0\" class=\"col_heading level0 col0\" >Produto</th>\n",
       "      <th id=\"T_0b24b_level0_col1\" class=\"col_heading level0 col1\" >QtCO</th>\n",
       "      <th id=\"T_0b24b_level0_col2\" class=\"col_heading level0 col2\" >QtMin</th>\n",
       "      <th id=\"T_0b24b_level0_col3\" class=\"col_heading level0 col3\" >QtVendas</th>\n",
       "      <th id=\"T_0b24b_level0_col4\" class=\"col_heading level0 col4\" >Estq. após vendas</th>\n",
       "      <th id=\"T_0b24b_level0_col5\" class=\"col_heading level0 col5\" >Necess.</th>\n",
       "      <th id=\"T_0b24b_level0_col6\" class=\"col_heading level0 col6\" >Transf. de Arm p/ CO</th>\n",
       "    </tr>\n",
       "  </thead>\n",
       "  <tbody>\n",
       "    <tr>\n",
       "      <th id=\"T_0b24b_level0_row0\" class=\"row_heading level0 row0\" >0</th>\n",
       "      <td id=\"T_0b24b_row0_col0\" class=\"data row0 col0\" >16320</td>\n",
       "      <td id=\"T_0b24b_row0_col1\" class=\"data row0 col1\" >344</td>\n",
       "      <td id=\"T_0b24b_row0_col2\" class=\"data row0 col2\" >200</td>\n",
       "      <td id=\"T_0b24b_row0_col3\" class=\"data row0 col3\" >128</td>\n",
       "      <td id=\"T_0b24b_row0_col4\" class=\"data row0 col4\" >216</td>\n",
       "      <td id=\"T_0b24b_row0_col5\" class=\"data row0 col5\" >0</td>\n",
       "      <td id=\"T_0b24b_row0_col6\" class=\"data row0 col6\" >0</td>\n",
       "    </tr>\n",
       "    <tr>\n",
       "      <th id=\"T_0b24b_level0_row1\" class=\"row_heading level0 row1\" >1</th>\n",
       "      <td id=\"T_0b24b_row1_col0\" class=\"data row1 col0\" >23400</td>\n",
       "      <td id=\"T_0b24b_row1_col1\" class=\"data row1 col1\" >1435</td>\n",
       "      <td id=\"T_0b24b_row1_col2\" class=\"data row1 col2\" >500</td>\n",
       "      <td id=\"T_0b24b_row1_col3\" class=\"data row1 col3\" >937</td>\n",
       "      <td id=\"T_0b24b_row1_col4\" class=\"data row1 col4\" >498</td>\n",
       "      <td id=\"T_0b24b_row1_col5\" class=\"data row1 col5\" >2</td>\n",
       "      <td id=\"T_0b24b_row1_col6\" class=\"data row1 col6\" >10</td>\n",
       "    </tr>\n",
       "    <tr>\n",
       "      <th id=\"T_0b24b_level0_row2\" class=\"row_heading level0 row2\" >2</th>\n",
       "      <td id=\"T_0b24b_row2_col0\" class=\"data row2 col0\" >26440</td>\n",
       "      <td id=\"T_0b24b_row2_col1\" class=\"data row2 col1\" >2899</td>\n",
       "      <td id=\"T_0b24b_row2_col2\" class=\"data row2 col2\" >800</td>\n",
       "      <td id=\"T_0b24b_row2_col3\" class=\"data row2 col3\" >239</td>\n",
       "      <td id=\"T_0b24b_row2_col4\" class=\"data row2 col4\" >2660</td>\n",
       "      <td id=\"T_0b24b_row2_col5\" class=\"data row2 col5\" >0</td>\n",
       "      <td id=\"T_0b24b_row2_col6\" class=\"data row2 col6\" >0</td>\n",
       "    </tr>\n",
       "    <tr>\n",
       "      <th id=\"T_0b24b_level0_row3\" class=\"row_heading level0 row3\" >3</th>\n",
       "      <td id=\"T_0b24b_row3_col0\" class=\"data row3 col0\" >28790</td>\n",
       "      <td id=\"T_0b24b_row3_col1\" class=\"data row3 col1\" >310</td>\n",
       "      <td id=\"T_0b24b_row3_col2\" class=\"data row3 col2\" >150</td>\n",
       "      <td id=\"T_0b24b_row3_col3\" class=\"data row3 col3\" >245</td>\n",
       "      <td id=\"T_0b24b_row3_col4\" class=\"data row3 col4\" >65</td>\n",
       "      <td id=\"T_0b24b_row3_col5\" class=\"data row3 col5\" >85</td>\n",
       "      <td id=\"T_0b24b_row3_col6\" class=\"data row3 col6\" >85</td>\n",
       "    </tr>\n",
       "    <tr>\n",
       "      <th id=\"T_0b24b_level0_row4\" class=\"row_heading level0 row4\" >4</th>\n",
       "      <td id=\"T_0b24b_row4_col0\" class=\"data row4 col0\" >36540</td>\n",
       "      <td id=\"T_0b24b_row4_col1\" class=\"data row4 col1\" >431</td>\n",
       "      <td id=\"T_0b24b_row4_col2\" class=\"data row4 col2\" >100</td>\n",
       "      <td id=\"T_0b24b_row4_col3\" class=\"data row4 col3\" >617</td>\n",
       "      <td id=\"T_0b24b_row4_col4\" class=\"data row4 col4\" >-186</td>\n",
       "      <td id=\"T_0b24b_row4_col5\" class=\"data row4 col5\" >286</td>\n",
       "      <td id=\"T_0b24b_row4_col6\" class=\"data row4 col6\" >286</td>\n",
       "    </tr>\n",
       "  </tbody>\n",
       "</table>\n"
      ],
      "text/plain": [
       "<pandas.io.formats.style.Styler at 0x7fe3457d8e80>"
      ]
     },
     "execution_count": 23,
     "metadata": {},
     "output_type": "execute_result"
    }
   ],
   "source": [
    "df.style.set_caption(\"Necessidade de Transferência Armazém para CO\")"
   ]
  }
 ],
 "metadata": {
  "kernelspec": {
   "display_name": "Python 3",
   "language": "python",
   "name": "python3"
  },
  "language_info": {
   "codemirror_mode": {
    "name": "ipython",
    "version": 3
   },
   "file_extension": ".py",
   "mimetype": "text/x-python",
   "name": "python",
   "nbconvert_exporter": "python",
   "pygments_lexer": "ipython3",
   "version": "3.10.6"
  },
  "orig_nbformat": 4
 },
 "nbformat": 4,
 "nbformat_minor": 2
}
