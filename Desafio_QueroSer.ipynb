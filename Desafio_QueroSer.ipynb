{
  "nbformat": 4,
  "nbformat_minor": 0,
  "metadata": {
    "colab": {
      "name": "Untitled19.ipynb",
      "provenance": []
    },
    "kernelspec": {
      "name": "python3",
      "display_name": "Python 3"
    },
    "language_info": {
      "name": "python"
    }
  },
  "cells": [
    {
      "cell_type": "code",
      "source": [
        "def Transferencia_Armazem(produtos,vendas): \n",
        "  transferencia = []\n",
        "  for cp in range(len(produtos)):\n",
        "    trans = []\n",
        "    QtVendas=0\n",
        "    for i in range(len(vendas)):\n",
        "      if produtos['Código Produto'][cp] == vendas['Código Produto'][i]:\n",
        "        if 100 == vendas['Situação da venda'][i] or 102 == vendas['Situação da venda'][i]:\n",
        "          QtVendas += vendas[\"Quantidade vendida\"][i]\n",
        "\n",
        "    trans.append(produtos['Código Produto'][cp])\n",
        "    trans.append(produtos['Quantidade'][cp])\n",
        "    trans.append(produtos['Quantidade mínima'][cp])       \n",
        "    trans.append(QtVendas)\n",
        "\n",
        "    Estq_após_vendas= produtos['Quantidade'][cp] - QtVendas \n",
        "    trans.append(Estq_após_vendas)\n",
        "    Necess =  produtos['Quantidade mínima'][cp] - Estq_após_vendas \n",
        "\n",
        "    if Estq_após_vendas > produtos['Quantidade mínima'][cp]:\n",
        "      trans.append(0)\n",
        "      trans.append(0)\n",
        "    else:  \n",
        "      trans.append(Necess)\n",
        "\n",
        "      if Necess  <10 and Necess  >1 : \n",
        "          trans.append(10)\n",
        "      else :  \n",
        "          trans.append( Necess)\n",
        "    transferencia.append(trans) \n",
        "  transferencia = pd.DataFrame(transferencia, columns = ['Produto','QtCO','QtMin','QtVendas','Estq. após vendas','Necess.','Transf. de Arm p/ CO'])\n",
        "  f = open('transfere.txt','w')\n",
        "  f.write('Necessidade de Transferência Armazém para CO \\n')\n",
        "  f.write('\\n')\n",
        "  f.write(transferencia.to_string(index = False))\n",
        "  f.close()     "
      ],
      "metadata": {
        "id": "ycEMop9V9vZK"
      },
      "execution_count": 346,
      "outputs": []
    },
    {
      "cell_type": "code",
      "source": [
        "def Divergencias(produtos,vendas): \n",
        "  f = open('divergencias.txt','w')\n",
        "  for i in range(len(vendas)):\n",
        "    if 135 == vendas['Situação da venda'][i]:\n",
        "      f.write('Linha ')\n",
        "      f.write(str(i+1))\n",
        "      f.write(' – Venda cancelada \\n')\n",
        "    if 190 == vendas['Situação da venda'][i]:\n",
        "      f.write('Linha ')\n",
        "      f.write(str(i+1))\n",
        "      f.write(' – Venda não finalizada \\n')\n",
        "    if 999 == vendas['Situação da venda'][i]:\n",
        "      f.write('Linha ')\n",
        "      f.write(str(i+1))\n",
        "      f.write(' – Erro desconhecido. Acionar equipe de TI \\n') \n",
        "  dado = vendas['Código Produto'].isin(produtos['Código Produto'])\n",
        "  for x in range(len(dado)):\n",
        "    if dado[x] == False:\n",
        "      f.write('Linha ')\n",
        "      f.write(str(i+1))\n",
        "      f.write('- Código de Produto não encontrado ') \n",
        "      f.write(str(vendas['Código Produto'][x]))\n",
        "      f.write('\\n')\n",
        "  f.close()"
      ],
      "metadata": {
        "id": "EJMGdglagVgr"
      },
      "execution_count": 347,
      "outputs": []
    },
    {
      "cell_type": "code",
      "source": [
        "def Relatorio_canais(produtos,vendas):\n",
        "  QtVendasRP =0 \n",
        "  QtVendasWEB =0\n",
        "  QtVendasAMA = 0\n",
        "  QtVendasAMI=0\n",
        "  for i in range(len(vendas)):\n",
        "    if 100 == vendas['Situação da venda'][i] or 102 == vendas['Situação da venda'][i]:\n",
        "      if vendas['Canal de venda'][i] == 1:\n",
        "        QtVendasRP += vendas[\"Quantidade vendida\"][i]\n",
        "\n",
        "      if vendas['Canal de venda'][i] == 2:\n",
        "        QtVendasWEB += vendas[\"Quantidade vendida\"][i]\n",
        "\n",
        "      if vendas['Canal de venda'][i] == 3:\n",
        "        QtVendasAMA += vendas[\"Quantidade vendida\"][i]\n",
        "\n",
        "      if vendas['Canal de venda'][i] == 4:\n",
        "        QtVendasAMI += vendas[\"Quantidade vendida\"][i]\n",
        "  f = open('totcanais.txt','w')\n",
        "\n",
        "  f.write('Quantidades de Vendas por canal \\n')\n",
        "  f.write('\\n')\n",
        "  f.write('1 - Representantes       ')\n",
        "  f.write(str(QtVendasRP))\n",
        "  f.write('\\n')\n",
        "  f.write('2 - Website              ')\n",
        "  f.write(str(QtVendasWEB))\n",
        "  f.write('\\n')\n",
        "  f.write('3 - App móvel Android    ')\n",
        "  f.write(str(QtVendasAMA))\n",
        "  f.write('\\n')\n",
        "  f.write('4 - App móvel iPhone     ')\n",
        "  f.write(str(QtVendasAMI))\n",
        "  f.close()"
      ],
      "metadata": {
        "id": "7WDVEnobsD8G"
      },
      "execution_count": 348,
      "outputs": []
    },
    {
      "cell_type": "code",
      "source": [
        "def main(caminho_produto,caminho_vendas):\n",
        "  produtos = pd.read_csv(caminho_produto, sep=\";\", header=None, names=[\"Código Produto\", \"Quantidade\", \"Quantidade mínima\"])\n",
        "  vendas =  pd.read_csv(caminho_vendas, sep=\";\", header=None, names=[\"Código Produto\", \"Quantidade vendida\", \"Situação da venda\",\"Canal de venda\"])\n",
        "  Transferencia_Armazem(produtos,vendas)\n",
        "  Divergencias(produtos,vendas)\n",
        "  Relatorio_canais(produtos,vendas)\n"
      ],
      "metadata": {
        "id": "FRKKdGDb_Jf-"
      },
      "execution_count": 349,
      "outputs": []
    },
    {
      "cell_type": "code",
      "source": [
        "import pandas as pd\n",
        "if __name__ == \"__main__\":\n",
        "    caminho_produto = 'produtos.txt'\n",
        "    caminho_vendas = 'vendas.txt'\n",
        "    main(caminho_produto,caminho_vendas)\n",
        "    \n",
        "\n"
      ],
      "metadata": {
        "id": "QMHb15T53LfM"
      },
      "execution_count": 350,
      "outputs": []
    }
  ]
}